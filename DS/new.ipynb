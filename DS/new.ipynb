{
 "cells": [
  {
   "cell_type": "code",
   "execution_count": 2,
   "metadata": {},
   "outputs": [],
   "source": [
    "import pandas as pd\n",
    "from sklearn import datasets\n",
    "from sklearn import naive_bayes\n",
    "from sklearn.model_selection import train_test_split\n",
    "from sklearn.metrics import accuracy_score\n"
   ]
  },
  {
   "cell_type": "code",
   "execution_count": 3,
   "metadata": {},
   "outputs": [
    {
     "data": {
      "text/plain": [
       "0.9555555555555556"
      ]
     },
     "execution_count": 3,
     "metadata": {},
     "output_type": "execute_result"
    }
   ],
   "source": [
    "db=datasets.load_iris()\n",
    "X,y=db.data,db.target\n",
    "X_train,X_test,y_train,y_test=train_test_split(X,y,train_size=0.7)\n",
    "classifier=naive_bayes.GaussianNB()\n",
    "classifier.fit(X_train,y_train)\n",
    "y_pred=classifier.predict(X_test)\n",
    "accuracy_score(y_test,y_pred)"
   ]
  },
  {
   "cell_type": "markdown",
   "metadata": {},
   "source": [
    "g"
   ]
  },
  {
   "cell_type": "code",
   "execution_count": 4,
   "metadata": {},
   "outputs": [],
   "source": [
    "import numpy as np\n",
    "from sklearn import datasets\n",
    "from sklearn.linear_model import LinearRegression\n",
    "from sklearn.model_selection import train_test_split\n",
    "from sklearn.metrics import mean_squared_error,r2_score\n",
    "import matplotlib.pyplot as plt\n",
    "\n"
   ]
  },
  {
   "cell_type": "markdown",
   "metadata": {},
   "source": [
    "r2_score is a regresssion score function to evaluate the performance of linear regression model(it is r square ,coefficeint determinant).it is the amount of variable in the output dependant attribute which is predictable from the input independant variable\n",
    "r2=1-ssres/sstotal\n",
    "ssres is sum of squares of the residual errors.\n",
    "it is the total sum of the errors\n",
    "the best possible score of r2_score is 1\n",
    "it can be negative which means worst condition\n"
   ]
  },
  {
   "cell_type": "markdown",
   "metadata": {},
   "source": [
    "actual value(y)   predicted(f)  error E1=y-f    E1*E1   E2=y-mean    E2*E2\n",
    "10                  10              0           0        -10            100\n",
    "20                  20              0           0          0            0\n",
    "30                  30              0           0          10           100\n",
    "\n",
    "MEAN=20                                        (SS res)                (SStotal)\n",
    "\n",
    "\n",
    "R^2=1-(SSres/SS total)\n",
    "substituting this formula we'll get  R^2=1-(0/200)\n"
   ]
  },
  {
   "cell_type": "markdown",
   "metadata": {},
   "source": []
  },
  {
   "cell_type": "markdown",
   "metadata": {},
   "source": [
    "actual value(y)   predicted(f)  error E1=y-f    E1*E1   E2=y-mean    E2*E2\n",
    "10                  20              -10           100        -10            100\n",
    "20                  20              0           0          0            0\n",
    "30                  20              10          100          10           100\n",
    "\n",
    "MEAN=20                                        (SS res)                (SStotal)\n",
    "\n",
    "\n",
    "R^2=1-(SSres/SS total)\n",
    "substituting this formula we'll get  R^2=1-(200/200)=0"
   ]
  },
  {
   "cell_type": "markdown",
   "metadata": {},
   "source": [
    "actual value(y)   predicted(f)  error E1=y-f    E1*E1   E2=y-mean    E2*E2\n",
    "10                  30              -20           400        -10            100\n",
    "20                  10              10          100         0            0\n",
    "30                  20              10         100          10           100\n",
    "\n",
    "MEAN=20                                        (SS res)                (SStotal)\n",
    "\n",
    "\n",
    "R^2=1-(SSres/SS total)\n",
    "substituting this formula we'll get  R^2=1-(600/200)n= -2\n",
    "as the answer is negative it is the worst condition\n"
   ]
  },
  {
   "cell_type": "markdown",
   "metadata": {},
   "source": [
    "seed function: \n",
    "rand"
   ]
  },
  {
   "cell_type": "code",
   "execution_count": 5,
   "metadata": {},
   "outputs": [],
   "source": [
    "np.random.seed(42)\n",
    "X=2*np.random.rand(100,1)\n",
    "Y=4+3*X+np.random.randn(100,1)"
   ]
  },
  {
   "cell_type": "code",
   "execution_count": 17,
   "metadata": {},
   "outputs": [],
   "source": [
    "X_train,X_test,y_train,y_test=train_test_split(X,Y,train_size=0.8,random_state=42)\n"
   ]
  },
  {
   "cell_type": "code",
   "execution_count": 18,
   "metadata": {},
   "outputs": [
    {
     "name": "stdout",
     "output_type": "stream",
     "text": [
      "0.6536995137170021\n",
      "0.8072059636181392\n"
     ]
    }
   ],
   "source": [
    "m=LinearRegression()\n",
    "m.fit(X_train,y_train)\n",
    "y_pred=m.predict(X_test)\n",
    "se=mean_squared_error(y_test,y_pred)\n",
    "print(se)\n",
    "print(r2_score(y_test,y_pred))\n"
   ]
  },
  {
   "cell_type": "code",
   "execution_count": 24,
   "metadata": {},
   "outputs": [
    {
     "data": {
      "image/png": "[encoded data removed]",
      "text/plain": [
       "<Figure size 640x480 with 1 Axes>"
      ]
     },
     "metadata": {},
     "output_type": "display_data"
    }
   ],
   "source": [
    "plt.scatter(X,Y,color='red',marker='x',label=\"Actual\")\n",
    "plt.plot(X_test,y_pred,label='prediction')\n",
    "plt.legend()\n",
    "plt.show()"
   ]
  },
  {
   "cell_type": "code",
   "execution_count": 25,
   "metadata": {},
   "outputs": [
    {
     "name": "stdout",
     "output_type": "stream",
     "text": [
      "[[9.74156063]]\n"
     ]
    }
   ],
   "source": [
    "n=float(input(\"enter a value to predict:\"))\n",
    "n1=np.array([[n]])\n",
    "print(m.predict(n1))\n"
   ]
  },
  {
   "cell_type": "code",
   "execution_count": null,
   "metadata": {},
   "outputs": [],
   "source": []
  }
 ],
 "metadata": {
  "kernelspec": {
   "display_name": "base",
   "language": "python",
   "name": "python3"
  },
  "language_info": {
   "codemirror_mode": {
    "name": "ipython",
    "version": 3
   },
   "file_extension": ".py",
   "mimetype": "text/x-python",
   "name": "python",
   "nbconvert_exporter": "python",
   "pygments_lexer": "ipython3",
   "version": "3.12.4"
  }
 },
 "nbformat": 4,
 "nbformat_minor": 2
}
