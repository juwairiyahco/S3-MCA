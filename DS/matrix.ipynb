{
 "cells": [
  {
   "cell_type": "markdown",
   "metadata": {},
   "source": [
    "2x2 matrix using initialization<br>\n"
   ]
  },
  {
   "cell_type": "code",
   "execution_count": 4,
   "metadata": {},
   "outputs": [],
   "source": [
    "import numpy  as np"
   ]
  },
  {
   "cell_type": "code",
   "execution_count": 7,
   "metadata": {},
   "outputs": [
    {
     "name": "stdout",
     "output_type": "stream",
     "text": [
      "Dot: \n",
      " [[14 20]\n",
      " [30 44]]\n",
      "transpose: \n",
      " [[1 3]\n",
      " [2 4]]\n",
      "inverse\n",
      " [[-2.   1. ]\n",
      " [ 1.5 -0.5]]\n",
      "determinant\n",
      " -2.0000000000000004\n",
      "1D array\n",
      " [1 2 3 4]\n"
     ]
    }
   ],
   "source": [
    "import numpy  as np\n",
    "m1=np.array([[1,2],[3,4]])\n",
    "m2=np.array([[2,4],[6,8]])\n",
    "print(\"Dot: \\n\",m1.dot(m2))\n",
    "print(\"transpose: \\n\",np.transpose(m1))\n",
    "print(\"inverse\\n\",np.linalg.inv(m1))\n",
    "print(\"determinant\\n\",np.linalg.det(m1))\n",
    "print(\"1D array\\n\",m1.flatten())\n",
    "\n"
   ]
  },
  {
   "cell_type": "markdown",
   "metadata": {},
   "source": [
    "matrix from user"
   ]
  },
  {
   "cell_type": "code",
   "execution_count": 9,
   "metadata": {},
   "outputs": [
    {
     "name": "stdout",
     "output_type": "stream",
     "text": [
      "transpose  \n",
      " [[1 4]\n",
      " [2 5]\n",
      " [3 6]]\n"
     ]
    }
   ],
   "source": [
    "matrix=[]\n",
    "x=int(input(\"enter no of rows:\"))\n",
    "y=int(input(\"enter no of columns:\"))\n",
    "for i in range(x):\n",
    "    row=[]\n",
    "    for j in range(y):\n",
    "        row.append(int(input()))\n",
    "    matrix.append(row)\n",
    "m1=np.array(matrix)\n",
    "m1\n",
    "print(\"transpose  \\n\" ,np.transpose(m1))"
   ]
  },
  {
   "cell_type": "markdown",
   "metadata": {},
   "source": [
    "2nd way- user input matrix using list,map,split"
   ]
  },
  {
   "cell_type": "code",
   "execution_count": 15,
   "metadata": {},
   "outputs": [
    {
     "data": {
      "text/plain": [
       "array([[1, 2],\n",
       "       [3, 4]])"
      ]
     },
     "execution_count": 15,
     "metadata": {},
     "output_type": "execute_result"
    }
   ],
   "source": [
    "matrix=[]\n",
    "x=int(input(\"enter no of rows:\"))\n",
    "y=int(input(\"enter no of columns:\"))\n",
    "a=list(map(int,input().split()))\n",
    "matrix.append(a)\n",
    "m1=np.array(matrix)\n",
    "m1=m1.reshape(x,y)\n",
    "m1"
   ]
  },
  {
   "cell_type": "markdown",
   "metadata": {},
   "source": [
    "<h1>Ex 2</h1>\n",
    "<h5>Write a program to create 2 matrix from user and find the following\n",
    "<ul><li>dot product</li>\n",
    "<li>transpose</li>\n",
    "<li>determinant</li>\n",
    "<li>inverse</li>\n",
    "<li>trace  .trace</li>\n",
    "<li>rank matrix_rank</li>\n",
    "<li>Eigen values and Eigeen vectors  eig</li></ul></h5>"
   ]
  },
  {
   "cell_type": "code",
   "execution_count": 9,
   "metadata": {},
   "outputs": [
    {
     "name": "stdout",
     "output_type": "stream",
     "text": [
      "Matrix 1:\n",
      "[[1 2]\n",
      " [3 4]]\n",
      "\n",
      "Matrix 2:\n",
      "[[9 8]\n",
      " [7 6]]\n",
      "\n",
      "Dot Product:\n",
      "[[33 50]\n",
      " [25 38]]\n",
      "\n",
      "Transpose of matrix 1:\n",
      "[[1 3]\n",
      " [2 4]]\n",
      "\n",
      "Determinant of matrix 2\n",
      "-2.0000000000000004\n",
      "\n",
      "Inverse of matrix 2:\n",
      "[[-3.   4. ]\n",
      " [ 3.5 -4.5]]\n",
      "\n",
      "Trace of matrix 1\n",
      "5\n",
      "\n",
      "Rank of matrix 1\n",
      "2\n",
      "\n",
      "Eigen Values of matrix 1\n",
      "(array([15.13216876, -0.13216876]), array([[ 0.79366214, -0.65894079],\n",
      "       [ 0.60835878,  0.75219481]]))\n"
     ]
    }
   ],
   "source": [
    "import numpy as np\n",
    "matrix1=[]\n",
    "matrix2=[]\n",
    "r1,c1=list(map(int,input(\"Enter no of rows and cols for matrix 1:\").split()))\n",
    "r2,c2=list(map(int,input(\"Enter no of rows and cols for matrix 2:\").split()))\n",
    "m=list(map(int,input(\"Enter elements of matrix 1:\").split()))\n",
    "matrix1.append(m)\n",
    "m1=np.array(matrix1).reshape(r1,c1)\n",
    "m=list(map(int,input(\"Enter elements of matrix 2:\").split()))\n",
    "matrix2.append(m)\n",
    "m2=np.array(matrix2).reshape(r2,c2)\n",
    "print(\"Matrix 1:\")\n",
    "print(m1)\n",
    "print(\"\\nMatrix 2:\")\n",
    "print(m2)\n",
    "dot=m2.dot(m1)\n",
    "print(\"\\nDot Product:\")\n",
    "print(dot)\n",
    "print(\"\\nTranspose of matrix 1:\")\n",
    "print(np.transpose(m1))\n",
    "print(\"\\nDeterminant of matrix 2\")\n",
    "print(np.linalg.det(m1))\n",
    "print(\"\\nInverse of matrix 2:\")\n",
    "print(np.linalg.inv(m2))\n",
    "print(\"\\nTrace of matrix 1\")\n",
    "print(m1.trace())\n",
    "print(\"\\nRank of matrix 1\")\n",
    "print(np.linalg.matrix_rank(m1))\n",
    "print(\"\\nEigen Values of matrix 1\")\n",
    "print(np.linalg.eig(m2))"
   ]
  },
  {
   "cell_type": "code",
   "execution_count": null,
   "metadata": {},
   "outputs": [],
   "source": []
  },
  {
   "cell_type": "code",
   "execution_count": null,
   "metadata": {},
   "outputs": [],
   "source": []
  },
  {
   "cell_type": "code",
   "execution_count": null,
   "metadata": {},
   "outputs": [],
   "source": []
  },
  {
   "cell_type": "code",
   "execution_count": null,
   "metadata": {},
   "outputs": [],
   "source": []
  },
  {
   "cell_type": "code",
   "execution_count": null,
   "metadata": {},
   "outputs": [],
   "source": []
  },
  {
   "cell_type": "code",
   "execution_count": 7,
   "metadata": {},
   "outputs": [
    {
     "ename": "ValueError",
     "evalue": "not enough values to unpack (expected 2, got 0)",
     "output_type": "error",
     "traceback": [
      "\u001b[1;31m---------------------------------------------------------------------------\u001b[0m",
      "\u001b[1;31mValueError\u001b[0m                                Traceback (most recent call last)",
      "\u001b[1;32m~\\AppData\\Local\\Temp\\ipykernel_4792\\2929964218.py\u001b[0m in \u001b[0;36m<module>\u001b[1;34m\u001b[0m\n\u001b[0;32m      1\u001b[0m \u001b[0mmatrix1\u001b[0m\u001b[1;33m=\u001b[0m\u001b[1;33m[\u001b[0m\u001b[1;33m]\u001b[0m\u001b[1;33m\u001b[0m\u001b[1;33m\u001b[0m\u001b[0m\n\u001b[0;32m      2\u001b[0m \u001b[0mmatrix2\u001b[0m\u001b[1;33m=\u001b[0m\u001b[1;33m[\u001b[0m\u001b[1;33m]\u001b[0m\u001b[1;33m\u001b[0m\u001b[1;33m\u001b[0m\u001b[0m\n\u001b[1;32m----> 3\u001b[1;33m \u001b[0mr1\u001b[0m\u001b[1;33m,\u001b[0m\u001b[0mc1\u001b[0m\u001b[1;33m=\u001b[0m\u001b[0mlist\u001b[0m\u001b[1;33m(\u001b[0m\u001b[0mmap\u001b[0m\u001b[1;33m(\u001b[0m\u001b[0mint\u001b[0m\u001b[1;33m,\u001b[0m\u001b[0minput\u001b[0m\u001b[1;33m(\u001b[0m\u001b[1;34m\"Enter no of rows and cols for matrix 1:\"\u001b[0m\u001b[1;33m)\u001b[0m\u001b[1;33m.\u001b[0m\u001b[0msplit\u001b[0m\u001b[1;33m(\u001b[0m\u001b[1;33m)\u001b[0m\u001b[1;33m)\u001b[0m\u001b[1;33m)\u001b[0m\u001b[1;33m\u001b[0m\u001b[1;33m\u001b[0m\u001b[0m\n\u001b[0m\u001b[0;32m      4\u001b[0m \u001b[0mr2\u001b[0m\u001b[1;33m,\u001b[0m\u001b[0mc2\u001b[0m\u001b[1;33m=\u001b[0m\u001b[0mlist\u001b[0m\u001b[1;33m(\u001b[0m\u001b[0mmap\u001b[0m\u001b[1;33m(\u001b[0m\u001b[0mint\u001b[0m\u001b[1;33m,\u001b[0m\u001b[0minput\u001b[0m\u001b[1;33m(\u001b[0m\u001b[1;34m\"Enter no of rows and cols for matrix 2:\"\u001b[0m\u001b[1;33m)\u001b[0m\u001b[1;33m.\u001b[0m\u001b[0msplit\u001b[0m\u001b[1;33m(\u001b[0m\u001b[1;33m)\u001b[0m\u001b[1;33m)\u001b[0m\u001b[1;33m)\u001b[0m\u001b[1;33m\u001b[0m\u001b[1;33m\u001b[0m\u001b[0m\n\u001b[0;32m      5\u001b[0m \u001b[0mm\u001b[0m\u001b[1;33m=\u001b[0m\u001b[0mlist\u001b[0m\u001b[1;33m(\u001b[0m\u001b[0mmap\u001b[0m\u001b[1;33m(\u001b[0m\u001b[0mint\u001b[0m\u001b[1;33m,\u001b[0m\u001b[0minput\u001b[0m\u001b[1;33m(\u001b[0m\u001b[1;34m\"Enter elements of matrix 1:\"\u001b[0m\u001b[1;33m)\u001b[0m\u001b[1;33m.\u001b[0m\u001b[0msplit\u001b[0m\u001b[1;33m(\u001b[0m\u001b[1;33m)\u001b[0m\u001b[1;33m)\u001b[0m\u001b[1;33m)\u001b[0m\u001b[1;33m\u001b[0m\u001b[1;33m\u001b[0m\u001b[0m\n",
      "\u001b[1;31mValueError\u001b[0m: not enough values to unpack (expected 2, got 0)"
     ]
    }
   ],
   "source": [
    "matrix1=[]\n",
    "matrix2=[]\n",
    "r1,c1=list(map(int,input(\"Enter no of rows and cols for matrix 1:\").split()))\n",
    "r2,c2=list(map(int,input(\"Enter no of rows and cols for matrix 2:\").split()))\n",
    "m=list(map(int,input(\"Enter elements of matrix 1:\").split()))\n",
    "matrix1.append(m)\n",
    "m1=np.array(matrix1).reshape(r1,c1)\n",
    "m=list(map(int,input(\"Enter elements of matrix 2:\").split()))\n",
    "matrix2.append(m)\n",
    "m2=np.array(matrix2).reshape(r2,c2)\n",
    "print(\"Matrix 1\\n\",m1)\n",
    "print(\"\\nMatrix 2\\n\",m1)\n",
    "print(\"\\nDot Product\\n\",np.dot(m1,m2))\n",
    "print(\"\\nTranspose of matrix 1\\n\",np.transpose(m1))\n",
    "print(\"\\nTranspose of matrix 2\\n\",np.transpose(m2))\n",
    "print(\"\\nInverse of matrix 1\\n\",np.linalg.inv(m1))\n",
    "print(\"\\nInverse of matrix 2\\n\",np.linalg.inv(m2))\n",
    "print(\"\\nDeterminant of matrix 1\\n\",np.linalg.det(m1))\n",
    "print(\"\\nDeterminant of matrix 2\\n\",np.linalg.det(m2))\n",
    "print(\"\\nTrace of matrix 1\\n\",m1.trace())\n",
    "print(\"\\nTrace of matrix 2\\n\",m2.trace())\n",
    "print(\"\\nRank of matrix 1\\n\",np.linalg.matrix_rank(m1))\n",
    "print(\"\\nRank of matrix 2\\n\",np.linalg.matrix_rank(m2))\n",
    "print(\"\\nEigen values and vectors of matrix 1\\n\",np.linalg.eig(m1))\n",
    "print(\"\\nEigne values and vectors of matrix 2\\n\",np.linalg.eig(m2))"
   ]
  },
  {
   "cell_type": "markdown",
   "metadata": {},
   "source": []
  },
  {
   "cell_type": "code",
   "execution_count": null,
   "metadata": {},
   "outputs": [],
   "source": []
  }
 ],
 "metadata": {
  "kernelspec": {
   "display_name": "base",
   "language": "python",
   "name": "python3"
  },
  "language_info": {
   "codemirror_mode": {
    "name": "ipython",
    "version": 3
   },
   "file_extension": ".py",
   "mimetype": "text/x-python",
   "name": "python",
   "nbconvert_exporter": "python",
   "pygments_lexer": "ipython3",
   "version": "3.9.13"
  }
 },
 "nbformat": 4,
 "nbformat_minor": 2
}
