{
 "cells": [
  {
   "cell_type": "markdown",
   "metadata": {},
   "source": [
    "2x2 matrix using initialization<br>\n"
   ]
  },
  {
   "cell_type": "code",
   "execution_count": 2,
   "metadata": {},
   "outputs": [],
   "source": [
    "import numpy  as np"
   ]
  },
  {
   "cell_type": "code",
   "execution_count": 7,
   "metadata": {},
   "outputs": [
    {
     "name": "stdout",
     "output_type": "stream",
     "text": [
      "Dot: \n",
      " [[14 20]\n",
      " [30 44]]\n",
      "transpose: \n",
      " [[1 3]\n",
      " [2 4]]\n",
      "inverse\n",
      " [[-2.   1. ]\n",
      " [ 1.5 -0.5]]\n",
      "determinant\n",
      " -2.0000000000000004\n",
      "1D array\n",
      " [1 2 3 4]\n"
     ]
    }
   ],
   "source": [
    "import numpy  as np\n",
    "m1=np.array([[1,2],[3,4]])\n",
    "m2=np.array([[2,4],[6,8]])\n",
    "print(\"Dot: \\n\",m1.dot(m2))\n",
    "print(\"transpose: \\n\",np.transpose(m1))\n",
    "print(\"inverse\\n\",np.linalg.inv(m1))\n",
    "print(\"determinant\\n\",np.linalg.det(m1))\n",
    "print(\"1D array\\n\",m1.flatten())\n",
    "\n"
   ]
  },
  {
   "cell_type": "markdown",
   "metadata": {},
   "source": [
    "matrix from user"
   ]
  },
  {
   "cell_type": "code",
   "execution_count": 9,
   "metadata": {},
   "outputs": [
    {
     "name": "stdout",
     "output_type": "stream",
     "text": [
      "transpose  \n",
      " [[1 4]\n",
      " [2 5]\n",
      " [3 6]]\n"
     ]
    }
   ],
   "source": [
    "matrix=[]\n",
    "x=int(input(\"enter no of rows:\"))\n",
    "y=int(input(\"enter no of columns:\"))\n",
    "for i in range(x):\n",
    "    row=[]\n",
    "    for j in range(y):\n",
    "        row.append(int(input()))\n",
    "    matrix.append(row)\n",
    "m1=np.array(matrix)\n",
    "m1\n",
    "print(\"transpose  \\n\" ,np.transpose(m1))"
   ]
  },
  {
   "cell_type": "markdown",
   "metadata": {},
   "source": [
    "2nd way- user input matrix using list,map,split"
   ]
  },
  {
   "cell_type": "code",
   "execution_count": 15,
   "metadata": {},
   "outputs": [
    {
     "data": {
      "text/plain": [
       "array([[1, 2],\n",
       "       [3, 4]])"
      ]
     },
     "execution_count": 15,
     "metadata": {},
     "output_type": "execute_result"
    }
   ],
   "source": [
    "matrix=[]\n",
    "x=int(input(\"enter no of rows:\"))\n",
    "y=int(input(\"enter no of columns:\"))\n",
    "a=list(map(int,input().split()))\n",
    "matrix.append(a)\n",
    "m1=np.array(matrix)\n",
    "m1=m1.reshape(x,y)\n",
    "m1"
   ]
  },
  {
   "cell_type": "markdown",
   "metadata": {},
   "source": [
    "<h1>Ex 2</h1>\n",
    "<h5>Write a program to create 2 matrix from user and find the following\n",
    "<ul><li>dot product</li>\n",
    "<li>transpose</li>\n",
    "<li>determinant</li>\n",
    "<li>inverse</li>\n",
    "<li>trace  .trace</li>\n",
    "<li>rank matrix_rank</li>\n",
    "<li>Eigen values and Eigeen vectors  eig</li></ul></h5>"
   ]
  },
  {
   "cell_type": "code",
   "execution_count": 17,
   "metadata": {},
   "outputs": [
    {
     "name": "stdout",
     "output_type": "stream",
     "text": [
      "[[13 20]\n",
      " [ 5  8]]\n",
      "transpose: [[1 3]\n",
      " [2 4]]\n",
      "determinant -2.0000000000000004\n",
      "inverse: [[-0.5  1.5]\n",
      " [ 1.  -2. ]]\n",
      "trace 5\n",
      "rank 2\n",
      "eigen values EigResult(eigenvalues=array([ 5.37228132, -0.37228132]), eigenvectors=array([[ 0.90937671, -0.56576746],\n",
      "       [ 0.41597356,  0.82456484]]))\n"
     ]
    }
   ],
   "source": [
    "matrix1=[]\n",
    "matrix2=[]\n",
    "r1,c1=list(map(int,input(\"enter no of rows nd col:\").split()))\n",
    "r2,c2=list(map(int,input(\"enter no of rows nd col:\").split()))\n",
    "a=list(map(int,input(\"enter nos\").split()))\n",
    "b=list(map(int,input(\"enter nos\").split()))\n",
    "matrix1.append(a)\n",
    "matrix2.append(b)\n",
    "m1=np.array(matrix1).reshape(r1,c1)\n",
    "m2=np.array(matrix2).reshape(r2,c2)\n",
    "dot=m2.dot(m1)\n",
    "print(dot)\n",
    "print(\"transpose:\",np.transpose(m1))\n",
    "print(\"determinant\",np.linalg.det(m1))\n",
    "print(\"inverse:\",np.linalg.inv(m2))\n",
    "print(\"trace\",m1.trace())\n",
    "print(\"rank\",np.linalg.matrix_rank(m1))\n",
    "print(\"eigen values\",np.linalg.eig(m2))"
   ]
  },
  {
   "cell_type": "code",
   "execution_count": null,
   "metadata": {},
   "outputs": [],
   "source": []
  },
  {
   "cell_type": "code",
   "execution_count": null,
   "metadata": {},
   "outputs": [],
   "source": []
  },
  {
   "cell_type": "code",
   "execution_count": null,
   "metadata": {},
   "outputs": [],
   "source": []
  },
  {
   "cell_type": "code",
   "execution_count": null,
   "metadata": {},
   "outputs": [],
   "source": []
  },
  {
   "cell_type": "code",
   "execution_count": null,
   "metadata": {},
   "outputs": [],
   "source": []
  },
  {
   "cell_type": "code",
   "execution_count": 8,
   "metadata": {},
   "outputs": [
    {
     "name": "stdout",
     "output_type": "stream",
     "text": [
      "Matrix 1\n",
      " [[1 2]\n",
      " [3 4]]\n",
      "\n",
      "Matrix 2\n",
      " [[1 2]\n",
      " [3 4]]\n",
      "Dot Product\n",
      " [[ 8  5]\n",
      " [20 13]]\n",
      "\n",
      "Transpose of matrix 1\n",
      " [[1 3]\n",
      " [2 4]]\n",
      "\n",
      "Transpose of matrix 2\n",
      " [[4 2]\n",
      " [3 1]]\n",
      "\n",
      "Inverse of matrix 1\n",
      " [[-2.   1. ]\n",
      " [ 1.5 -0.5]]\n",
      "\n",
      "Inverse of matrix 2\n",
      " [[-0.5  1.5]\n",
      " [ 1.  -2. ]]\n",
      "\n",
      "Determinant of matrix 1\n",
      " -2.0000000000000004\n",
      "\n",
      "Determinant of matrix 2\n",
      " -2.0\n",
      "\n",
      "Trace of matrix 1\n",
      " 5\n",
      "\n",
      "Trace of matrix 2\n",
      " 5\n",
      "\n",
      "Rank of matrix 1\n",
      " 2\n",
      "\n",
      "Rank of matrix 2\n",
      " 2\n",
      "\n",
      "Eigen values and vectors of matrix 1\n",
      " EigResult(eigenvalues=array([-0.37228132,  5.37228132]), eigenvectors=array([[-0.82456484, -0.41597356],\n",
      "       [ 0.56576746, -0.90937671]]))\n",
      "\n",
      "Eigne values and vectors of matrix 2\n",
      " EigResult(eigenvalues=array([ 5.37228132, -0.37228132]), eigenvectors=array([[ 0.90937671, -0.56576746],\n",
      "       [ 0.41597356,  0.82456484]]))\n"
     ]
    }
   ],
   "source": [
    "matrix1=[]\n",
    "matrix2=[]\n",
    "r1,c1=list(map(int,input(\"Enter no of rows and cols for matrix 1:\").split()))\n",
    "r2,c2=list(map(int,input(\"Enter no of rows and cols for matrix 2:\").split()))\n",
    "m=list(map(int,input(\"Enter elements of matrix 1:\").split()))\n",
    "matrix1.append(m)\n",
    "m1=np.array(matrix1).reshape(r1,c1)\n",
    "m=list(map(int,input(\"Enter elements of matrix 2:\").split()))\n",
    "matrix2.append(m)\n",
    "m2=np.array(matrix2).reshape(r2,c2)\n",
    "print(\"Matrix 1\\n\",m1)\n",
    "print(\"\\nMatrix 2\\n\",m1)\n",
    "print(\"\\nDot Product\\n\",np.dot(m1,m2))\n",
    "print(\"\\nTranspose of matrix 1\\n\",np.transpose(m1))\n",
    "print(\"\\nTranspose of matrix 2\\n\",np.transpose(m2))\n",
    "print(\"\\nInverse of matrix 1\\n\",np.linalg.inv(m1))\n",
    "print(\"\\nInverse of matrix 2\\n\",np.linalg.inv(m2))\n",
    "print(\"\\nDeterminant of matrix 1\\n\",np.linalg.det(m1))\n",
    "print(\"\\nDeterminant of matrix 2\\n\",np.linalg.det(m2))\n",
    "print(\"\\nTrace of matrix 1\\n\",m1.trace())\n",
    "print(\"\\nTrace of matrix 2\\n\",m2.trace())\n",
    "print(\"\\nRank of matrix 1\\n\",np.linalg.matrix_rank(m1))\n",
    "print(\"\\nRank of matrix 2\\n\",np.linalg.matrix_rank(m2))\n",
    "print(\"\\nEigen values and vectors of matrix 1\\n\",np.linalg.eig(m1))\n",
    "print(\"\\nEigne values and vectors of matrix 2\\n\",np.linalg.eig(m2))"
   ]
  },
  {
   "cell_type": "markdown",
   "metadata": {},
   "source": []
  },
  {
   "cell_type": "code",
   "execution_count": null,
   "metadata": {},
   "outputs": [],
   "source": []
  }
 ],
 "metadata": {
  "kernelspec": {
   "display_name": "base",
   "language": "python",
   "name": "python3"
  },
  "language_info": {
   "codemirror_mode": {
    "name": "ipython",
    "version": 3
   },
   "file_extension": ".py",
   "mimetype": "text/x-python",
   "name": "python",
   "nbconvert_exporter": "python",
   "pygments_lexer": "ipython3",
   "version": "3.12.4"
  }
 },
 "nbformat": 4,
 "nbformat_minor": 2
}
