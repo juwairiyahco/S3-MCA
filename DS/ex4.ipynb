{
 "cells": [
  {
   "cell_type": "markdown",
   "metadata": {},
   "source": [
    "1.write a python program to convert list to series.<br>\n",
    "2.write a python program to generate series of dates from  1 august 2024 to 15 aug 2024.<br>\n",
    "3.convert a dictionary to data frame and display it.<br>\n",
    "4.create a 2D list and convert into data frame and display it.<br>\n",
    "\n",
    "------csv file questions--------\n",
    "\n"
   ]
  },
  {
   "cell_type": "markdown",
   "metadata": {},
   "source": []
  }
 ],
 "metadata": {
  "language_info": {
   "name": "python"
  }
 },
 "nbformat": 4,
 "nbformat_minor": 2
}
