{
 "cells": [
  {
   "cell_type": "code",
   "execution_count": 2,
   "id": "b9a2fae1-9b58-4bd0-a128-1012c7f5098a",
   "metadata": {},
   "outputs": [],
   "source": [
    "import numpy as np"
   ]
  },
  {
   "cell_type": "code",
   "execution_count": 3,
   "id": "9faf1f3c-2a29-45e9-afc6-155cdda81622",
   "metadata": {},
   "outputs": [],
   "source": [
    "a=np.array([1,2,3])"
   ]
  },
  {
   "cell_type": "code",
   "execution_count": 4,
   "id": "9fc7941d-5d3e-452b-a005-5dc8cb09925a",
   "metadata": {},
   "outputs": [
    {
     "data": {
      "text/plain": [
       "array([1, 2, 3])"
      ]
     },
     "execution_count": 4,
     "metadata": {},
     "output_type": "execute_result"
    }
   ],
   "source": [
    "a"
   ]
  },
  {
   "cell_type": "code",
   "execution_count": 5,
   "id": "11782fd6-d5ca-4242-9699-0223b5e1df33",
   "metadata": {},
   "outputs": [
    {
     "name": "stdout",
     "output_type": "stream",
     "text": [
      "[1 2 3]\n"
     ]
    }
   ],
   "source": [
    "print (a)"
   ]
  },
  {
   "cell_type": "code",
   "execution_count": 6,
   "id": "136bab88-0eb4-47ae-9791-8eeee1017dac",
   "metadata": {},
   "outputs": [
    {
     "data": {
      "text/plain": [
       "array([[1, 2],\n",
       "       [3, 4]])"
      ]
     },
     "execution_count": 6,
     "metadata": {},
     "output_type": "execute_result"
    }
   ],
   "source": [
    "b=np.array([[1,2],[3,4]])\n",
    "b"
   ]
  },
  {
   "cell_type": "code",
   "execution_count": 7,
   "id": "f12ef98c-6388-4eaa-955b-f008f4c94f92",
   "metadata": {},
   "outputs": [
    {
     "name": "stdout",
     "output_type": "stream",
     "text": [
      "(2, 2)\n"
     ]
    }
   ],
   "source": [
    "print (b.shape)"
   ]
  },
  {
   "cell_type": "code",
   "execution_count": 10,
   "id": "a3aa70c4-edf3-480b-9d86-71acf4ef8350",
   "metadata": {},
   "outputs": [
    {
     "data": {
      "text/plain": [
       "array([0, 1, 2, 3, 4, 5, 6, 7, 8, 9])"
      ]
     },
     "execution_count": 10,
     "metadata": {},
     "output_type": "execute_result"
    }
   ],
   "source": [
    "s=np.arange(10)\n",
    "s"
   ]
  },
  {
   "cell_type": "code",
   "execution_count": 14,
   "id": "47977707-d27a-4879-984f-ba5f8adc5bb9",
   "metadata": {},
   "outputs": [
    {
     "data": {
      "text/plain": [
       "array([ 1.,  3.,  5.,  7.,  9., 11., 13., 15., 17., 19., 21., 23.])"
      ]
     },
     "execution_count": 14,
     "metadata": {},
     "output_type": "execute_result"
    }
   ],
   "source": [
    "x=np.arange(1,24,2,dtype=float)\n",
    "x"
   ]
  },
  {
   "cell_type": "markdown",
   "id": "b1cd566c-662a-47ea-a586-42cdbf522a6b",
   "metadata": {},
   "source": [
    "#### Prg 1<br>\n",
    "Write a numpy program to evaluate 2 list"
   ]
  },
  {
   "cell_type": "code",
   "execution_count": 23,
   "id": "f765dece-d202-440f-8c30-08846d754adc",
   "metadata": {},
   "outputs": [],
   "source": [
    "l1=np.array([1,2,3,4])\n",
    "l2=np.array([5,6,1,7])\n",
    "gr=np.greater(l1,l2)\n",
    "le=np.less_equal(l1,l2)\n",
    "ge=np.greater_equal(l1,l2)\n",
    "lt=np.less(l1,l2)\n",
    "eq=np.equal(l1,l2)"
   ]
  },
  {
   "cell_type": "code",
   "execution_count": 25,
   "id": "4283c6e9-3d80-44da-bce9-0d949349f0ef",
   "metadata": {},
   "outputs": [
    {
     "name": "stdout",
     "output_type": "stream",
     "text": [
      "L1 > L2:  [False False  True False] \n",
      "L1 <= L2 [ True  True False  True] \n",
      "L1 >= L2 [False False  True False] \n",
      "L1 < L2 [ True  True False  True] \n",
      "L1 = L2 [False False False False]\n"
     ]
    }
   ],
   "source": [
    "print(\"L1 > L2: \",gr,\"\\nL1 <= L2\",le,\"\\nL1 >= L2\",ge,\"\\nL1 < L2\",lt,\"\\nL1 = L2\",eq)"
   ]
  },
  {
   "cell_type": "markdown",
   "id": "be62e2fe-8e82-4ed8-9207-8929b3cbb464",
   "metadata": {},
   "source": [
    "Without functions"
   ]
  },
  {
   "cell_type": "code",
   "execution_count": 31,
   "id": "2e916b1e-168f-4e75-96a4-b64029b518be",
   "metadata": {},
   "outputs": [
    {
     "name": "stdout",
     "output_type": "stream",
     "text": [
      "L1 = L2 [False, False, False, False]\n"
     ]
    }
   ],
   "source": [
    "l=[]\n",
    "for (i,j) in zip(l1,l2):\n",
    "    if i==j:\n",
    "        l.append(True)\n",
    "    else:\n",
    "        l.append(False)\n",
    "\n",
    "print(\"L1 = L2\",l)"
   ]
  },
  {
   "cell_type": "markdown",
   "id": "12799e0d-9167-4b10-8b68-69343d84ee8f",
   "metadata": {},
   "source": [
    "#### Prg 2<br>\n",
    "Write a numpy program to generate even number array from 50-90"
   ]
  },
  {
   "cell_type": "code",
   "execution_count": 33,
   "id": "cab42062-d205-402a-bcab-feecfdcc55ad",
   "metadata": {},
   "outputs": [
    {
     "data": {
      "text/plain": [
       "array([50, 52, 54, 56, 58, 60, 62, 64, 66, 68, 70, 72, 74, 76, 78, 80, 82,\n",
       "       84, 86, 88, 90])"
      ]
     },
     "execution_count": 33,
     "metadata": {},
     "output_type": "execute_result"
    }
   ],
   "source": [
    "l=np.arange(50,91,2)\n",
    "l"
   ]
  },
  {
   "cell_type": "markdown",
   "id": "efce646d-9116-4c3a-8fc0-617ca174e696",
   "metadata": {},
   "source": [
    "#### Prg 3\n",
    "create a numpy prgm to generate a 4x4 identity matrix"
   ]
  },
  {
   "cell_type": "code",
   "execution_count": 47,
   "id": "63e4f30c-6613-4e2c-a7a1-4adf9c6eac2f",
   "metadata": {},
   "outputs": [
    {
     "data": {
      "text/plain": [
       "array([[1, 0],\n",
       "       [0, 1]])"
      ]
     },
     "execution_count": 47,
     "metadata": {},
     "output_type": "execute_result"
    }
   ],
   "source": [
    "i=np.identity(2,dtype=int)\n",
    "i"
   ]
  },
  {
   "cell_type": "markdown",
   "id": "fe1345f9-ec4b-4111-ba00-3dc5d234fd35",
   "metadata": {},
   "source": [
    "### Prg4\n",
    "generate 5x5 0 matrix with element on main diagonal 1,2,3,4,5"
   ]
  },
  {
   "cell_type": "code",
   "execution_count": 59,
   "id": "bbb6d862-970a-48c2-b1d3-921cd2a8fd92",
   "metadata": {},
   "outputs": [
    {
     "name": "stdout",
     "output_type": "stream",
     "text": [
      "[[1 0 0 0 0]\n",
      " [0 2 0 0 0]\n",
      " [0 0 3 0 0]\n",
      " [0 0 0 4 0]\n",
      " [0 0 0 0 5]]\n"
     ]
    }
   ],
   "source": [
    "z=np.diag([1,2,3,4,5])\n",
    "print(z)"
   ]
  },
  {
   "cell_type": "code",
   "execution_count": null,
   "id": "153f69d1-de04-4182-858a-0a5e2896c67a",
   "metadata": {},
   "outputs": [],
   "source": []
  }
 ],
 "metadata": {
  "kernelspec": {
   "display_name": "Python 3 (ipykernel)",
   "language": "python",
   "name": "python3"
  },
  "language_info": {
   "codemirror_mode": {
    "name": "ipython",
    "version": 3
   },
   "file_extension": ".py",
   "mimetype": "text/x-python",
   "name": "python",
   "nbconvert_exporter": "python",
   "pygments_lexer": "ipython3",
   "version": "3.12.4"
  }
 },
 "nbformat": 4,
 "nbformat_minor": 5
}
